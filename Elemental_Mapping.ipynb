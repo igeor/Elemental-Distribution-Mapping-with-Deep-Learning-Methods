{
 "cells": [
  {
   "cell_type": "code",
   "execution_count": 12,
   "metadata": {},
   "outputs": [
    {
     "name": "stdout",
     "output_type": "stream",
     "text": [
      "The autoreload extension is already loaded. To reload it, use:\n",
      "  %reload_ext autoreload\n"
     ]
    }
   ],
   "source": [
    "# Autoreload \n",
    "%load_ext autoreload\n",
    "%autoreload 2\n",
    "\n",
    "device = 'cuda'"
   ]
  },
  {
   "cell_type": "code",
   "execution_count": 15,
   "metadata": {},
   "outputs": [],
   "source": [
    "import torch \n",
    "import matplotlib.pyplot as plt"
   ]
  },
  {
   "attachments": {},
   "cell_type": "markdown",
   "metadata": {},
   "source": [
    "**PROBLEM**: An element map is an image showing the spatial distribution of elements in a sample. Because it is acquired from a polished section, it is a 2D section through the unknown sample. Element maps are extremely useful for displaying element distributions in textural context, particularly for showing compositional zonation."
   ]
  },
  {
   "cell_type": "code",
   "execution_count": 1,
   "metadata": {},
   "outputs": [],
   "source": [
    "from Elemental_Mapping.datasets.Pixel2PixelDataset import Pixel2PixelDataset"
   ]
  },
  {
   "cell_type": "code",
   "execution_count": 7,
   "metadata": {},
   "outputs": [],
   "source": [
    "training_images = ['gogo', 'dionisios', 'fanourios', 'odigitria', 'minos']\n",
    "test_images = ['saintjohn']"
   ]
  },
  {
   "cell_type": "code",
   "execution_count": 18,
   "metadata": {},
   "outputs": [],
   "source": [
    "band_range = (80, 2128)\n",
    "\n",
    "dataset = Pixel2PixelDataset(\n",
    "    '/home/igeor/MSC-THESIS/data/h5',\n",
    "    image_names=training_images, \n",
    "    sample_step = 1, \n",
    "    device='cuda', \n",
    "    band_range=(80, 2128), \n",
    "    target_elems=['S_K','K_K','Ca_K','Cr_K','Mn_K','Fe_K','Cu_K','Zn_K','Sr_K','Au_L','Hg_L','Pb_L'])\n",
    "\n",
    "# Split dataset into training and validation\n",
    "train_size = int(0.8 * len(dataset))\n",
    "val_size = len(dataset) - train_size\n",
    "train_dataset, val_dataset = torch.utils.data.random_split(dataset, [train_size, val_size])\n",
    "\n",
    "train_loader = torch.utils.data.DataLoader(train_dataset, batch_size=32, shuffle=True)\n",
    "val_loader = torch.utils.data.DataLoader(val_dataset, batch_size=32, shuffle=True)"
   ]
  },
  {
   "cell_type": "code",
   "execution_count": 45,
   "metadata": {},
   "outputs": [
    {
     "data": {
      "text/plain": [
       "FullyConnectedModel(\n",
       "  (layers): ModuleList(\n",
       "    (0): Linear(in_features=2048, out_features=512, bias=True)\n",
       "    (1): Linear(in_features=512, out_features=64, bias=True)\n",
       "    (2): Linear(in_features=64, out_features=12, bias=True)\n",
       "  )\n",
       "  (relu): ReLU()\n",
       "  (dropout): Dropout(p=0.2, inplace=False)\n",
       ")"
      ]
     },
     "execution_count": 45,
     "metadata": {},
     "output_type": "execute_result"
    }
   ],
   "source": [
    "# Define the Fully Connected Model\n",
    "from Elemental_Mapping.models.FullyConnectedModel import FullyConnectedModel\n",
    "\n",
    "in_features = band_range[1]-band_range[0]\n",
    "out_features = len(dataset.target_elems)\n",
    "fcn = FullyConnectedModel(in_features=in_features, out_features=out_features, hidden_dims=[512, 64])\n",
    "fcn.to(device)"
   ]
  },
  {
   "cell_type": "code",
   "execution_count": 46,
   "metadata": {},
   "outputs": [],
   "source": [
    "# Define Criterion and optimizer\n",
    "from Elemental_Mapping.loss_functions.AdaptiveL1Loss import AdaptiveL1Loss\n",
    "import torch.optim as optim\n",
    "    \n",
    "criterion = AdaptiveL1Loss()\n",
    "fcn_optimizer = optim.Adam(fcn.parameters(), lr=0.001)"
   ]
  },
  {
   "cell_type": "code",
   "execution_count": null,
   "metadata": {},
   "outputs": [],
   "source": [
    "num_epochs = 100\n",
    "\n",
    "for epoch in range(num_epochs):\n",
    "    train_loss = fcn.train(train_loader, fcn_optimizer, criterion, epochs=1, device=device)\n",
    "    val_loss, pred = fcn.eval(val_loader, criterion, device=device)\n",
    "    print(f'Epoch: {epoch}, Train Loss: {round(train_loss, 4)}, Val Loss: {round(val_loss, 4)}')\n",
    "    # Save model \n",
    "    torch.save(fcn.state_dict(), f'fcn.pt')"
   ]
  }
 ],
 "metadata": {
  "kernelspec": {
   "display_name": "hsi",
   "language": "python",
   "name": "python3"
  },
  "language_info": {
   "codemirror_mode": {
    "name": "ipython",
    "version": 3
   },
   "file_extension": ".py",
   "mimetype": "text/x-python",
   "name": "python",
   "nbconvert_exporter": "python",
   "pygments_lexer": "ipython3",
   "version": "3.10.6"
  },
  "orig_nbformat": 4
 },
 "nbformat": 4,
 "nbformat_minor": 2
}
